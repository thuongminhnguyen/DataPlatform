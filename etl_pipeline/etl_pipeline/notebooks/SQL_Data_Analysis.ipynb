{
 "cells": [
  {
   "cell_type": "code",
   "execution_count": null,
   "id": "b0d18446",
   "metadata": {},
   "outputs": [],
   "source": [
    "# import pandas as pd\n",
    "# import pyodbc\n",
    "# import os\n",
    "# import numpy as np\n",
    "# import matplotlib.pyplot as plt\n",
    "# from matplotlib import pyplot\n",
    "# import seaborn as sns\n",
    "# import matplotlib as mpl\n",
    "# import seaborn as sns  \n",
    "# from IPython.display import Image\n",
    "# %matplotlib inline     \n",
    "# sns.set(color_codes=True)"
   ]
  },
  {
   "cell_type": "code",
   "execution_count": null,
   "id": "18db07ba",
   "metadata": {},
   "outputs": [],
   "source": [
    "pwd = os.environ['PGPASS']\n",
    "uid = os.environ['PGUID']\n",
    "query = \"select * FROM [Sales].[vw_salesoverview] order by OrderDate\""
   ]
  },
  {
   "cell_type": "code",
   "execution_count": null,
   "id": "bbe4bbdf",
   "metadata": {},
   "outputs": [],
   "source": [
    "conn = pyodbc.connect(\n",
    "          'DRIVER=' + 'ODBC Driver 17 for SQL Server' +\n",
    "          ';server=' + 'localhost' +\n",
    "          ';database=' + 'AdventureWorks2019' +\n",
    "          ';UID=' + uid +\n",
    "          ';PWD=' + pwd\n",
    "          )\n",
    "df = pd.read_sql_query(query, conn)\n",
    "df.head()"
   ]
  },
  {
   "cell_type": "code",
   "execution_count": null,
   "id": "fbc57141",
   "metadata": {},
   "outputs": [],
   "source": [
    "plt.figure(figsize=(12,6))\n",
    "sns.histplot(df[\"Sales\"],bins=int(180/5),  kde=True, stat=\"density\", kde_kws=dict(cut=3), edgecolor=(1, 1, 1, .4), alpha=.4)"
   ]
  },
  {
   "cell_type": "code",
   "execution_count": null,
   "id": "a5d90dc4",
   "metadata": {},
   "outputs": [],
   "source": [
    "df.productcategory.value_counts().nlargest(40).plot(kind='bar', figsize=(10,5))\n",
    "plt.title(\"Number of Sales by Category\")\n",
    "plt.ylabel('Number of Sales')\n",
    "plt.xlabel('Category');"
   ]
  },
  {
   "cell_type": "code",
   "execution_count": null,
   "id": "6cbb04fe",
   "metadata": {},
   "outputs": [],
   "source": [
    "#find frequency of each Category\n",
    "tab = pd.crosstab(index=df['productcategory'], columns=['Relative Frequency'])\n",
    "#if you need to find relative frequency of a value then you take that value and divide it by the total.\n",
    "tab/tab.sum()"
   ]
  },
  {
   "cell_type": "code",
   "execution_count": null,
   "id": "7fae4ba9",
   "metadata": {},
   "outputs": [],
   "source": [
    "ct = pd.crosstab(df['productcategory'],df['Country']) #add normalize to see percentages: normalize='columns'\n",
    "ct"
   ]
  },
  {
   "cell_type": "code",
   "execution_count": null,
   "id": "5de734d4",
   "metadata": {},
   "outputs": [],
   "source": [
    "stacked = ct.stack().reset_index().rename(columns={0:'value'})"
   ]
  },
  {
   "cell_type": "code",
   "execution_count": null,
   "id": "fd1aeef7",
   "metadata": {},
   "outputs": [],
   "source": [
    "# plot grouped bar chart by catagories\n",
    "plt.figure(figsize=(15,6))\n",
    "bi = sns.barplot(x=stacked.productcategory, y=stacked.value, hue=stacked.Country)"
   ]
  },
  {
   "cell_type": "code",
   "execution_count": null,
   "id": "f0538b4d",
   "metadata": {},
   "outputs": [],
   "source": []
  }
 ],
 "metadata": {
  "kernelspec": {
   "display_name": "Python 3 (ipykernel)",
   "language": "python",
   "name": "python3"
  },
  "language_info": {
   "codemirror_mode": {
    "name": "ipython",
    "version": 3
   },
   "file_extension": ".py",
   "mimetype": "text/x-python",
   "name": "python",
   "nbconvert_exporter": "python",
   "pygments_lexer": "ipython3",
   "version": "3.9.13"
  }
 },
 "nbformat": 4,
 "nbformat_minor": 5
}
