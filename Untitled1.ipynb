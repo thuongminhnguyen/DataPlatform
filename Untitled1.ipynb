{
 "cells": [
  {
   "cell_type": "code",
   "execution_count": 1,
   "id": "00a3e001-488a-4468-ba46-73e2f379381f",
   "metadata": {},
   "outputs": [],
   "source": [
    "from pyspark.sql import SparkSession"
   ]
  },
  {
   "cell_type": "code",
   "execution_count": 2,
   "id": "a5cf3016-0699-49d0-b0ee-cdef00c7ae7a",
   "metadata": {},
   "outputs": [
    {
     "name": "stdout",
     "output_type": "stream",
     "text": [
      "Collecting nltk\n",
      "  Downloading nltk-3.8.1-py3-none-any.whl (1.5 MB)\n",
      "\u001b[2K     \u001b[90m━━━━━━━━━━━━━━━━━━━━━━━━━━━━━━━━━━━━━━━━\u001b[0m \u001b[32m1.5/1.5 MB\u001b[0m \u001b[31m1.2 MB/s\u001b[0m eta \u001b[36m0:00:00\u001b[0ma \u001b[36m0:00:01\u001b[0m0m\n",
      "\u001b[?25hCollecting regex>=2021.8.3\n",
      "  Downloading regex-2023.12.25-cp39-cp39-manylinux_2_17_x86_64.manylinux2014_x86_64.whl (773 kB)\n",
      "\u001b[2K     \u001b[90m━━━━━━━━━━━━━━━━━━━━━━━━━━━━━━━━━━━━━━━\u001b[0m \u001b[32m773.4/773.4 kB\u001b[0m \u001b[31m1.8 MB/s\u001b[0m eta \u001b[36m0:00:00\u001b[0ma \u001b[36m0:00:01\u001b[0m\n",
      "\u001b[?25hRequirement already satisfied: click in /opt/conda/lib/python3.9/site-packages (from nltk) (8.1.3)\n",
      "Requirement already satisfied: tqdm in /opt/conda/lib/python3.9/site-packages (from nltk) (4.64.1)\n",
      "Requirement already satisfied: joblib in /opt/conda/lib/python3.9/site-packages (from nltk) (1.2.0)\n",
      "Installing collected packages: regex, nltk\n",
      "Successfully installed nltk-3.8.1 regex-2023.12.25\n",
      "Note: you may need to restart the kernel to use updated packages.\n"
     ]
    }
   ],
   "source": [
    "pip install nltk"
   ]
  },
  {
   "cell_type": "code",
   "execution_count": 4,
   "id": "1ee97fe6-98d2-4e0c-a668-fdbc5599a581",
   "metadata": {},
   "outputs": [],
   "source": [
    "import pandas as pd\n",
    "import re\n",
    "import nltk\n",
    "import mlflow\n",
    "import numpy as np\n",
    "from nltk.stem import WordNetLemmatizer\n",
    "from sklearn.model_selection import train_test_split\n",
    "from sklearn.metrics import confusion_matrix, classification_report, accuracy_score\n",
    "from sklearn.feature_extraction.text import TfidfVectorizer\n",
    "from sklearn.linear_model import LogisticRegression\n",
    "from sklearn import metrics\n",
    "from sklearn.ensemble import RandomForestClassifier\n",
    "pd.set_option(\"display.max_colwidth\", None)"
   ]
  },
  {
   "cell_type": "code",
   "execution_count": 5,
   "id": "e71bd575-a552-444e-9b92-fac1010d82ac",
   "metadata": {},
   "outputs": [],
   "source": [
    "\n",
    "spark = SparkSession.builder \\\n",
    "    .appName('Ingest checkin table into bronze') \\\n",
    "    .master('spark://spark-master:7077') \\\n",
    "    .config(\"hive.metastore.uris\", \"thrift://hive-metastore:9083\")\\\n",
    "    .config(\"spark.hadoop.fs.s3a.access.key\", 'minio') \\\n",
    "    .config(\"spark.hadoop.fs.s3a.secret.key\", 'minio123') \\\n",
    "    .config(\"spark.hadoop.fs.s3a.endpoint\", 'minio:9000')\\\n",
    "    .config(\"spark.hadoop.fs.s3a.path.style.access\", \"true\")\\\n",
    "    .config(\"spark.hadoop.fs.s3a.impl\", \"org.apache.hadoop.fs.s3a.S3AFileSystem\") \\\n",
    "    .config(\"spark.hadoop.fs.s3a.connection.ssl.enabled\", \"false\")\\\n",
    "    .config('spark.hadoop.fs.s3a.aws.credentials.provider', 'org.apache.hadoop.fs.s3a.SimpleAWSCredentialsProvider')\\\n",
    "    .config(\"spark.sql.extensions\", \"io.delta.sql.DeltaSparkSessionExtension\") \\\n",
    "    .config(\"spark.sql.catalog.spark_catalog\", \"org.apache.spark.sql.delta.catalog.DeltaCatalog\")\\\n",
    "    .config('spark.sql.warehouse.dir', f's3a://lakehouse/')\\\n",
    "    .enableHiveSupport()\\\n",
    "    .getOrCreate()"
   ]
  },
  {
   "cell_type": "code",
   "execution_count": 6,
   "id": "e56ab117-4257-4acb-992d-14ff5911cb37",
   "metadata": {},
   "outputs": [
    {
     "name": "stdout",
     "output_type": "stream",
     "text": [
      "+---------+\n",
      "|namespace|\n",
      "+---------+\n",
      "|  default|\n",
      "|     gold|\n",
      "|  platium|\n",
      "|   silver|\n",
      "+---------+\n",
      "\n"
     ]
    }
   ],
   "source": [
    "spark.sql('show schemas').show()"
   ]
  },
  {
   "cell_type": "code",
   "execution_count": 7,
   "id": "f2f34bdd-30c3-4a90-85af-fcfbf9cd7b40",
   "metadata": {},
   "outputs": [],
   "source": [
    "t=\"silver.cleaned_order_review\"\n",
    "df1 = spark.read.table(t)"
   ]
  },
  {
   "cell_type": "code",
   "execution_count": 8,
   "id": "4aee14c0-11ee-4711-839b-4def3f51a8ab",
   "metadata": {},
   "outputs": [
    {
     "name": "stdout",
     "output_type": "stream",
     "text": [
      "+--------------------------------+--------------------------------+------------+---------------------------------------------------------------------------------------------------------------------------------------------------------------------------+--------------------+-----------------------+\n",
      "|review_id                       |order_id                        |review_score|review_comment_message                                                                                                                                                     |review_creation_date|review_answer_timestamp|\n",
      "+--------------------------------+--------------------------------+------------+---------------------------------------------------------------------------------------------------------------------------------------------------------------------------+--------------------+-----------------------+\n",
      "|cde97e23deec3aa11e838402378706ee|512ba2efae3409f37660ce26199b32aa|1           |Não posso! Estou aguardando a chegada do produto que comprei!Logo que isso aconteça, terei minha opinião formada!                                                          |2017-12-22 00:00:00 |2017-12-22 12:20:27    |\n",
      "|de7648e683482829b3ac3ba3a4ae64a0|21dd600edd64e225d04af3670d1803b3|5           |Bom produto. Entrega rápida. Recomendo                                                                                                                                     |2018-05-15 00:00:00 |2018-05-19 22:06:57    |\n",
      "|b7d03880a3ed8bf093567e511703378d|f01954cab76ef5d938d291d2f1d201e5|1           |Não foi entregue, a primeira vez que acontece isso.                                                                                                                        |2017-05-18 00:00:00 |2017-05-18 23:27:28    |\n",
      "|b2a694b42ac51fe76833c5d0cc0a6285|5bfad1932352fcd447ddb67c215b5552|5           |OTIMO ,                                                                                                                                                                    |2018-03-06 00:00:00 |2018-03-20 19:44:26    |\n",
      "|d92095a461b40afed6baeafbd158c3ce|d3537c571b02f225be1bc2d3b936beff|5           |tudo aconteceu como o previsto                                                                                                                                             |2017-12-22 00:00:00 |2017-12-24 11:04:20    |\n",
      "|0cbb6c4a0dd218723fa235bf6941308c|f8631b34c3dfdad3833c611007f62455|1           |O tamanho é pequeno e percebi depois que no anúncio não dá destaque as dimensões do produto. Deixa a desejar                                                               |2018-05-03 00:00:00 |2018-05-03 18:10:32    |\n",
      "|e2b8e7ace19be686157be608e40c55f3|1b74651a2ec8ee2d9e115d444f07f019|4           |Entrega rápida e produto muito bacana!!!                                                                                                                                   |2017-12-05 00:00:00 |2017-12-08 11:01:48    |\n",
      "|8292b3112397241abd44d49c2fd59d98|f15aaf3f7b6fbea7b5a454a4f9a38170|4           |Boa qualidade, chegou no tempo previsto, tudo certinho...                                                                                                                  |2018-07-11 00:00:00 |2018-07-26 01:35:30    |\n",
      "|ff4dbac42a6268977df00d6d06f87d2f|ac1436b9efc2d8508c1abf9e4dca5709|1           |não veio na cor q eu fiz a compra                                                                                                                                          |2017-04-08 00:00:00 |2017-04-10 01:26:30    |\n",
      "|2cfe9b52787853c8f008a1132d1619be|66e2e7ab183de22fa431c8fc3351bef3|2           |Já foi protocolizada junto ao stark pedido de cancelamento da compra. Estou aguardando resposta do responsável.                                                            |2018-02-15 00:00:00 |2018-02-18 00:55:38    |\n",
      "|e33d0fc332145abd8ecfb689e095ec97|e31f08a6838e8fe22d5850d237cdb1e7|5           |mto bom super recomendo                                                                                                                                                    |2018-07-31 00:00:00 |2018-07-31 23:55:26    |\n",
      "|1d0aeb6111900967b6a253a7aefc43e6|d79458e753af6edec4b2c73e07ddf01b|4           |Bom                                                                                                                                                                        |2018-03-08 00:00:00 |2018-03-09 02:55:38    |\n",
      "|dc101d3b9d33e937b83c956774beb874|07c09839b4951ac37863cf9f0f79dedf|5           |Gosto de comprar nesta Loja, só acho o preço dos fretes bastante elevados.                                                                                                 |2018-05-20 00:00:00 |2018-06-05 01:08:32    |\n",
      "|46db5b8a9942d1c09014c739124df0b2|b86ddd788f0b18de16cd6562b3a9266c|5           |O produto foi entregue em dois dias.\\r\\nBem antes do prazo determinado.\\r\\nExcelente prazo de entrega                                                                      |2017-10-11 00:00:00 |2017-10-13 13:43:12    |\n",
      "|a9abac20e2ee59acb3b5fa1be1e2a117|17a97fd237c6bc89cb832bd70369745e|5           |Gosto muito de comprar no site lannister.                                                                                                                                  |2018-06-16 00:00:00 |2018-06-16 19:59:55    |\n",
      "|bc9873bc1e70f97974b02333648fad87|dd29c320fd584533a33b3e7dd1258611|5           |Boa parceira, meu produto chegou antes do prazo.                                                                                                                           |2018-06-29 00:00:00 |2018-07-02 12:50:17    |\n",
      "|ad4353440dddfe0fbe463a849236776c|8511c084d79be37aa0cdc0c9985738d3|5           |ótimo preço e entrega rápida                                                                                                                                               |2018-08-17 00:00:00 |2018-08-18 15:21:59    |\n",
      "|3d49a4e28f95d8ccb5c3df776b6c95af|c3ca09e4e3a9c10f9b91c9ceb0d8e379|4           |No anúncio NÃO consta a informação ADESIVO.\\r\\nAchei que esse papel era para colar e veio um papel adesivo.                                                                |2018-03-11 00:00:00 |2018-03-14 14:02:12    |\n",
      "|70475385a0628cbcbf6e0ba534ab69d4|b44b36e6b69be34f58753d3b56d24001|1           |Comprei o jogo LEGO Movie (ps3) e recebi LEGO Batman (ps3). Total falta de descaso com o consumidor. Já reclamei via stark e ninguém entrou em contato para solucionar.    |2018-08-08 00:00:00 |2018-08-08 20:12:05    |\n",
      "|af980ca9bafbc96e2fbb0576a76310a7|7cb5aaf8b7b7b439174c2e4efdf4c7a3|1           |Paguei pelo produto e não recebi mas no sistema está como produto entregue em São Paulo e moro em Faxinla dos Guedes -SC. \\r\\ncomo assim ????\\r\\nquero meu dinheiro devolta|2016-11-08 00:00:00 |2016-11-08 10:01:52    |\n",
      "+--------------------------------+--------------------------------+------------+---------------------------------------------------------------------------------------------------------------------------------------------------------------------------+--------------------+-----------------------+\n",
      "only showing top 20 rows\n",
      "\n"
     ]
    }
   ],
   "source": [
    "df1.show(20,False)"
   ]
  },
  {
   "cell_type": "code",
   "execution_count": 9,
   "id": "9b2e948d-d21d-4b57-9b71-e44174618f42",
   "metadata": {},
   "outputs": [],
   "source": [
    "count = df1.count()"
   ]
  },
  {
   "cell_type": "code",
   "execution_count": 10,
   "id": "5ff2946f-c285-406f-9574-338ba06e44fe",
   "metadata": {},
   "outputs": [
    {
     "name": "stdout",
     "output_type": "stream",
     "text": [
      "40977\n"
     ]
    }
   ],
   "source": [
    "print(count)"
   ]
  },
  {
   "cell_type": "code",
   "execution_count": 11,
   "id": "484d641f",
   "metadata": {},
   "outputs": [],
   "source": [
    "df = df1.toPandas()"
   ]
  },
  {
   "cell_type": "code",
   "execution_count": 12,
   "id": "c39be96f",
   "metadata": {},
   "outputs": [
    {
     "data": {
      "text/plain": [
       "pandas.core.frame.DataFrame"
      ]
     },
     "execution_count": 12,
     "metadata": {},
     "output_type": "execute_result"
    }
   ],
   "source": [
    "type(df)"
   ]
  },
  {
   "cell_type": "code",
   "execution_count": 13,
   "id": "a54dec8d-ecae-4377-972d-a5fc146554b9",
   "metadata": {},
   "outputs": [
    {
     "data": {
      "text/html": [
       "<div>\n",
       "<style scoped>\n",
       "    .dataframe tbody tr th:only-of-type {\n",
       "        vertical-align: middle;\n",
       "    }\n",
       "\n",
       "    .dataframe tbody tr th {\n",
       "        vertical-align: top;\n",
       "    }\n",
       "\n",
       "    .dataframe thead th {\n",
       "        text-align: right;\n",
       "    }\n",
       "</style>\n",
       "<table border=\"1\" class=\"dataframe\">\n",
       "  <thead>\n",
       "    <tr style=\"text-align: right;\">\n",
       "      <th></th>\n",
       "      <th>review_id</th>\n",
       "      <th>order_id</th>\n",
       "      <th>review_score</th>\n",
       "      <th>review_comment_message</th>\n",
       "      <th>review_creation_date</th>\n",
       "      <th>review_answer_timestamp</th>\n",
       "    </tr>\n",
       "  </thead>\n",
       "  <tbody>\n",
       "    <tr>\n",
       "      <th>0</th>\n",
       "      <td>cde97e23deec3aa11e838402378706ee</td>\n",
       "      <td>512ba2efae3409f37660ce26199b32aa</td>\n",
       "      <td>1</td>\n",
       "      <td>Não posso! Estou aguardando a chegada do produto que comprei!Logo que isso aconteça, terei minha opinião formada!</td>\n",
       "      <td>2017-12-22 00:00:00</td>\n",
       "      <td>2017-12-22 12:20:27</td>\n",
       "    </tr>\n",
       "    <tr>\n",
       "      <th>1</th>\n",
       "      <td>de7648e683482829b3ac3ba3a4ae64a0</td>\n",
       "      <td>21dd600edd64e225d04af3670d1803b3</td>\n",
       "      <td>5</td>\n",
       "      <td>Bom produto. Entrega rápida. Recomendo</td>\n",
       "      <td>2018-05-15 00:00:00</td>\n",
       "      <td>2018-05-19 22:06:57</td>\n",
       "    </tr>\n",
       "    <tr>\n",
       "      <th>2</th>\n",
       "      <td>b7d03880a3ed8bf093567e511703378d</td>\n",
       "      <td>f01954cab76ef5d938d291d2f1d201e5</td>\n",
       "      <td>1</td>\n",
       "      <td>Não foi entregue, a primeira vez que acontece isso.</td>\n",
       "      <td>2017-05-18 00:00:00</td>\n",
       "      <td>2017-05-18 23:27:28</td>\n",
       "    </tr>\n",
       "    <tr>\n",
       "      <th>3</th>\n",
       "      <td>b2a694b42ac51fe76833c5d0cc0a6285</td>\n",
       "      <td>5bfad1932352fcd447ddb67c215b5552</td>\n",
       "      <td>5</td>\n",
       "      <td>OTIMO ,</td>\n",
       "      <td>2018-03-06 00:00:00</td>\n",
       "      <td>2018-03-20 19:44:26</td>\n",
       "    </tr>\n",
       "    <tr>\n",
       "      <th>4</th>\n",
       "      <td>d92095a461b40afed6baeafbd158c3ce</td>\n",
       "      <td>d3537c571b02f225be1bc2d3b936beff</td>\n",
       "      <td>5</td>\n",
       "      <td>tudo aconteceu como o previsto</td>\n",
       "      <td>2017-12-22 00:00:00</td>\n",
       "      <td>2017-12-24 11:04:20</td>\n",
       "    </tr>\n",
       "  </tbody>\n",
       "</table>\n",
       "</div>"
      ],
      "text/plain": [
       "                          review_id                          order_id  \\\n",
       "0  cde97e23deec3aa11e838402378706ee  512ba2efae3409f37660ce26199b32aa   \n",
       "1  de7648e683482829b3ac3ba3a4ae64a0  21dd600edd64e225d04af3670d1803b3   \n",
       "2  b7d03880a3ed8bf093567e511703378d  f01954cab76ef5d938d291d2f1d201e5   \n",
       "3  b2a694b42ac51fe76833c5d0cc0a6285  5bfad1932352fcd447ddb67c215b5552   \n",
       "4  d92095a461b40afed6baeafbd158c3ce  d3537c571b02f225be1bc2d3b936beff   \n",
       "\n",
       "   review_score  \\\n",
       "0             1   \n",
       "1             5   \n",
       "2             1   \n",
       "3             5   \n",
       "4             5   \n",
       "\n",
       "                                                                                              review_comment_message  \\\n",
       "0  Não posso! Estou aguardando a chegada do produto que comprei!Logo que isso aconteça, terei minha opinião formada!   \n",
       "1                                                                             Bom produto. Entrega rápida. Recomendo   \n",
       "2                                                                Não foi entregue, a primeira vez que acontece isso.   \n",
       "3                                                                                                           OTIMO ,    \n",
       "4                                                                                     tudo aconteceu como o previsto   \n",
       "\n",
       "  review_creation_date review_answer_timestamp  \n",
       "0  2017-12-22 00:00:00     2017-12-22 12:20:27  \n",
       "1  2018-05-15 00:00:00     2018-05-19 22:06:57  \n",
       "2  2017-05-18 00:00:00     2017-05-18 23:27:28  \n",
       "3  2018-03-06 00:00:00     2018-03-20 19:44:26  \n",
       "4  2017-12-22 00:00:00     2017-12-24 11:04:20  "
      ]
     },
     "execution_count": 13,
     "metadata": {},
     "output_type": "execute_result"
    }
   ],
   "source": [
    "df.head(5)"
   ]
  },
  {
   "cell_type": "code",
   "execution_count": 16,
   "id": "44165411-9e2d-438e-97ac-997f3faaec40",
   "metadata": {},
   "outputs": [
    {
     "data": {
      "text/html": [
       "<div>\n",
       "<style scoped>\n",
       "    .dataframe tbody tr th:only-of-type {\n",
       "        vertical-align: middle;\n",
       "    }\n",
       "\n",
       "    .dataframe tbody tr th {\n",
       "        vertical-align: top;\n",
       "    }\n",
       "\n",
       "    .dataframe thead th {\n",
       "        text-align: right;\n",
       "    }\n",
       "</style>\n",
       "<table border=\"1\" class=\"dataframe\">\n",
       "  <thead>\n",
       "    <tr style=\"text-align: right;\">\n",
       "      <th></th>\n",
       "      <th>score</th>\n",
       "      <th>comment</th>\n",
       "    </tr>\n",
       "  </thead>\n",
       "  <tbody>\n",
       "    <tr>\n",
       "      <th>0</th>\n",
       "      <td>1</td>\n",
       "      <td>Não posso! Estou aguardando a chegada do produto que comprei!Logo que isso aconteça, terei minha opinião formada!</td>\n",
       "    </tr>\n",
       "    <tr>\n",
       "      <th>1</th>\n",
       "      <td>5</td>\n",
       "      <td>Bom produto. Entrega rápida. Recomendo</td>\n",
       "    </tr>\n",
       "    <tr>\n",
       "      <th>2</th>\n",
       "      <td>1</td>\n",
       "      <td>Não foi entregue, a primeira vez que acontece isso.</td>\n",
       "    </tr>\n",
       "    <tr>\n",
       "      <th>3</th>\n",
       "      <td>5</td>\n",
       "      <td>OTIMO ,</td>\n",
       "    </tr>\n",
       "    <tr>\n",
       "      <th>4</th>\n",
       "      <td>5</td>\n",
       "      <td>tudo aconteceu como o previsto</td>\n",
       "    </tr>\n",
       "    <tr>\n",
       "      <th>5</th>\n",
       "      <td>1</td>\n",
       "      <td>O tamanho é pequeno e percebi depois que no anúncio não dá destaque as dimensões do produto. Deixa a desejar</td>\n",
       "    </tr>\n",
       "    <tr>\n",
       "      <th>6</th>\n",
       "      <td>4</td>\n",
       "      <td>Entrega rápida e produto muito bacana!!!</td>\n",
       "    </tr>\n",
       "    <tr>\n",
       "      <th>7</th>\n",
       "      <td>4</td>\n",
       "      <td>Boa qualidade, chegou no tempo previsto, tudo certinho...</td>\n",
       "    </tr>\n",
       "    <tr>\n",
       "      <th>8</th>\n",
       "      <td>1</td>\n",
       "      <td>não veio na cor q eu fiz a compra</td>\n",
       "    </tr>\n",
       "    <tr>\n",
       "      <th>9</th>\n",
       "      <td>2</td>\n",
       "      <td>Já foi protocolizada junto ao stark pedido de cancelamento da compra. Estou aguardando resposta do responsável.</td>\n",
       "    </tr>\n",
       "  </tbody>\n",
       "</table>\n",
       "</div>"
      ],
      "text/plain": [
       "   score  \\\n",
       "0      1   \n",
       "1      5   \n",
       "2      1   \n",
       "3      5   \n",
       "4      5   \n",
       "5      1   \n",
       "6      4   \n",
       "7      4   \n",
       "8      1   \n",
       "9      2   \n",
       "\n",
       "                                                                                                             comment  \n",
       "0  Não posso! Estou aguardando a chegada do produto que comprei!Logo que isso aconteça, terei minha opinião formada!  \n",
       "1                                                                             Bom produto. Entrega rápida. Recomendo  \n",
       "2                                                                Não foi entregue, a primeira vez que acontece isso.  \n",
       "3                                                                                                           OTIMO ,   \n",
       "4                                                                                     tudo aconteceu como o previsto  \n",
       "5      O tamanho é pequeno e percebi depois que no anúncio não dá destaque as dimensões do produto. Deixa a desejar   \n",
       "6                                                                           Entrega rápida e produto muito bacana!!!  \n",
       "7                                                          Boa qualidade, chegou no tempo previsto, tudo certinho...  \n",
       "8                                                                                  não veio na cor q eu fiz a compra  \n",
       "9    Já foi protocolizada junto ao stark pedido de cancelamento da compra. Estou aguardando resposta do responsável.  "
      ]
     },
     "execution_count": 16,
     "metadata": {},
     "output_type": "execute_result"
    }
   ],
   "source": [
    "df_comments = df.loc[:, [\"review_score\", \"review_comment_message\"]]\n",
    "df_comments.columns = [\"score\", \"comment\"]\n",
    "df_comments.head(10)"
   ]
  },
  {
   "cell_type": "code",
   "execution_count": 17,
   "id": "2e2287f8-a1a5-47d5-8419-e9b55fba3e58",
   "metadata": {},
   "outputs": [],
   "source": [
    "lemmatizer = WordNetLemmatizer()\n",
    "def clean_text(text):\n",
    "    text = text.lower()\n",
    "    # text = re.sub(\n",
    "    #     r\"[^a-zA-Z?.!,¿\\s]+\", \" \", text\n",
    "    # )  \n",
    "    text = re.sub(r\"http\\S+\", \"\", text)  \n",
    "    html = re.compile(r\"<.*?>\")\n",
    "    text = html.sub(r\"\", text) \n",
    "    punctuations = \"@#!?+&*[]-%.:/();$=><|{}^\" + \"'`\" + \"_\"\n",
    "    for p in punctuations:\n",
    "        text = text.replace(p, \"\")  \n",
    "    #text = [word.lower() for word in text.split() if word.lower() not in sw]\n",
    "    text = [word.lower() for word in text.split()]\n",
    "    text = [lemmatizer.lemmatize(word) for word in text]\n",
    "    text = \" \".join(text) \n",
    "    emoji_pattern = re.compile(\"[\"\n",
    "                           u\"\\U0001F600-\\U0001F64F\"  # emoticons\n",
    "                           u\"\\U0001F300-\\U0001F5FF\"  # symbols & pictographs\n",
    "                           u\"\\U0001F680-\\U0001F6FF\"  # transport & map symbols\n",
    "                           u\"\\U0001F1E0-\\U0001F1FF\"  # flags (iOS)\n",
    "                           u\"\\U00002702-\\U000027B0\"\n",
    "                           u\"\\U000024C2-\\U0001F251\"\n",
    "                           \"]+\", flags=re.UNICODE)\n",
    "    text = emoji_pattern.sub(r'', text) #Removing emojis\n",
    "\n",
    "    return text"
   ]
  },
  {
   "cell_type": "code",
   "execution_count": 19,
   "id": "9a190171-c357-47f0-a66d-b1039fd55498",
   "metadata": {},
   "outputs": [
    {
     "name": "stderr",
     "output_type": "stream",
     "text": [
      "[nltk_data] Downloading package wordnet to /home/jovyan/nltk_data...\n"
     ]
    },
    {
     "data": {
      "text/plain": [
       "True"
      ]
     },
     "execution_count": 19,
     "metadata": {},
     "output_type": "execute_result"
    }
   ],
   "source": [
    "nltk.download('wordnet')"
   ]
  },
  {
   "cell_type": "code",
   "execution_count": 20,
   "id": "bb4a792d-b82f-4571-bd9a-a2dd4c40d26c",
   "metadata": {},
   "outputs": [
    {
     "data": {
      "text/html": [
       "<div>\n",
       "<style scoped>\n",
       "    .dataframe tbody tr th:only-of-type {\n",
       "        vertical-align: middle;\n",
       "    }\n",
       "\n",
       "    .dataframe tbody tr th {\n",
       "        vertical-align: top;\n",
       "    }\n",
       "\n",
       "    .dataframe thead th {\n",
       "        text-align: right;\n",
       "    }\n",
       "</style>\n",
       "<table border=\"1\" class=\"dataframe\">\n",
       "  <thead>\n",
       "    <tr style=\"text-align: right;\">\n",
       "      <th></th>\n",
       "      <th>score</th>\n",
       "      <th>comment</th>\n",
       "    </tr>\n",
       "  </thead>\n",
       "  <tbody>\n",
       "    <tr>\n",
       "      <th>0</th>\n",
       "      <td>1</td>\n",
       "      <td>não posso estou aguardando a chegada do produto que compreilogo que isso aconteça, terei minha opinião formada</td>\n",
       "    </tr>\n",
       "    <tr>\n",
       "      <th>1</th>\n",
       "      <td>5</td>\n",
       "      <td>bom produto entrega rápida recomendo</td>\n",
       "    </tr>\n",
       "    <tr>\n",
       "      <th>2</th>\n",
       "      <td>1</td>\n",
       "      <td>não foi entregue, a primeira vez que acontece isso</td>\n",
       "    </tr>\n",
       "    <tr>\n",
       "      <th>3</th>\n",
       "      <td>5</td>\n",
       "      <td>otimo ,</td>\n",
       "    </tr>\n",
       "    <tr>\n",
       "      <th>4</th>\n",
       "      <td>5</td>\n",
       "      <td>tudo aconteceu como o previsto</td>\n",
       "    </tr>\n",
       "    <tr>\n",
       "      <th>5</th>\n",
       "      <td>1</td>\n",
       "      <td>o tamanho é pequeno e percebi depois que no anúncio não dá destaque a dimensões do produto deixa a desejar</td>\n",
       "    </tr>\n",
       "    <tr>\n",
       "      <th>6</th>\n",
       "      <td>4</td>\n",
       "      <td>entrega rápida e produto muito bacana</td>\n",
       "    </tr>\n",
       "    <tr>\n",
       "      <th>7</th>\n",
       "      <td>4</td>\n",
       "      <td>boa qualidade, chegou no tempo previsto, tudo certinho</td>\n",
       "    </tr>\n",
       "    <tr>\n",
       "      <th>8</th>\n",
       "      <td>1</td>\n",
       "      <td>não veio na cor q eu fiz a compra</td>\n",
       "    </tr>\n",
       "    <tr>\n",
       "      <th>9</th>\n",
       "      <td>2</td>\n",
       "      <td>já foi protocolizada junto ao stark pedido de cancelamento da compra estou aguardando resposta do responsável</td>\n",
       "    </tr>\n",
       "    <tr>\n",
       "      <th>10</th>\n",
       "      <td>5</td>\n",
       "      <td>mto bom super recomendo</td>\n",
       "    </tr>\n",
       "    <tr>\n",
       "      <th>11</th>\n",
       "      <td>4</td>\n",
       "      <td>bom</td>\n",
       "    </tr>\n",
       "    <tr>\n",
       "      <th>12</th>\n",
       "      <td>5</td>\n",
       "      <td>gosto de comprar nesta loja, só acho o preço do fretes bastante elevados</td>\n",
       "    </tr>\n",
       "    <tr>\n",
       "      <th>13</th>\n",
       "      <td>5</td>\n",
       "      <td>o produto foi entregue em doi dia bem ante do prazo determinado excelente prazo de entrega</td>\n",
       "    </tr>\n",
       "    <tr>\n",
       "      <th>14</th>\n",
       "      <td>5</td>\n",
       "      <td>gosto muito de comprar no site lannister</td>\n",
       "    </tr>\n",
       "    <tr>\n",
       "      <th>15</th>\n",
       "      <td>5</td>\n",
       "      <td>boa parceira, meu produto chegou ante do prazo</td>\n",
       "    </tr>\n",
       "    <tr>\n",
       "      <th>16</th>\n",
       "      <td>5</td>\n",
       "      <td>ótimo preço e entrega rápida</td>\n",
       "    </tr>\n",
       "    <tr>\n",
       "      <th>17</th>\n",
       "      <td>4</td>\n",
       "      <td>no anúncio não consta a informação adesivo achei que esse papel era para colar e veio um papel adesivo</td>\n",
       "    </tr>\n",
       "    <tr>\n",
       "      <th>18</th>\n",
       "      <td>1</td>\n",
       "      <td>comprei o jogo lego movie ps3 e recebi lego batman ps3 total falta de descaso com o consumidor já reclamei via stark e ninguém entrou em contato para solucionar</td>\n",
       "    </tr>\n",
       "    <tr>\n",
       "      <th>19</th>\n",
       "      <td>1</td>\n",
       "      <td>paguei pelo produto e não recebi ma no sistema está como produto entregue em são paulo e moro em faxinla do guedes sc como assim quero meu dinheiro devolta</td>\n",
       "    </tr>\n",
       "  </tbody>\n",
       "</table>\n",
       "</div>"
      ],
      "text/plain": [
       "    score  \\\n",
       "0       1   \n",
       "1       5   \n",
       "2       1   \n",
       "3       5   \n",
       "4       5   \n",
       "5       1   \n",
       "6       4   \n",
       "7       4   \n",
       "8       1   \n",
       "9       2   \n",
       "10      5   \n",
       "11      4   \n",
       "12      5   \n",
       "13      5   \n",
       "14      5   \n",
       "15      5   \n",
       "16      5   \n",
       "17      4   \n",
       "18      1   \n",
       "19      1   \n",
       "\n",
       "                                                                                                                                                             comment  \n",
       "0                                                     não posso estou aguardando a chegada do produto que compreilogo que isso aconteça, terei minha opinião formada  \n",
       "1                                                                                                                               bom produto entrega rápida recomendo  \n",
       "2                                                                                                                 não foi entregue, a primeira vez que acontece isso  \n",
       "3                                                                                                                                                            otimo ,  \n",
       "4                                                                                                                                     tudo aconteceu como o previsto  \n",
       "5                                                         o tamanho é pequeno e percebi depois que no anúncio não dá destaque a dimensões do produto deixa a desejar  \n",
       "6                                                                                                                              entrega rápida e produto muito bacana  \n",
       "7                                                                                                             boa qualidade, chegou no tempo previsto, tudo certinho  \n",
       "8                                                                                                                                  não veio na cor q eu fiz a compra  \n",
       "9                                                      já foi protocolizada junto ao stark pedido de cancelamento da compra estou aguardando resposta do responsável  \n",
       "10                                                                                                                                           mto bom super recomendo  \n",
       "11                                                                                                                                                               bom  \n",
       "12                                                                                          gosto de comprar nesta loja, só acho o preço do fretes bastante elevados  \n",
       "13                                                                        o produto foi entregue em doi dia bem ante do prazo determinado excelente prazo de entrega  \n",
       "14                                                                                                                          gosto muito de comprar no site lannister  \n",
       "15                                                                                                                    boa parceira, meu produto chegou ante do prazo  \n",
       "16                                                                                                                                      ótimo preço e entrega rápida  \n",
       "17                                                            no anúncio não consta a informação adesivo achei que esse papel era para colar e veio um papel adesivo  \n",
       "18  comprei o jogo lego movie ps3 e recebi lego batman ps3 total falta de descaso com o consumidor já reclamei via stark e ninguém entrou em contato para solucionar  \n",
       "19       paguei pelo produto e não recebi ma no sistema está como produto entregue em são paulo e moro em faxinla do guedes sc como assim quero meu dinheiro devolta  "
      ]
     },
     "execution_count": 20,
     "metadata": {},
     "output_type": "execute_result"
    }
   ],
   "source": [
    "df_comments[\"comment\"] = df_comments[\"comment\"].apply(lambda x: clean_text(x))\n",
    "\n",
    "df_comments.head(20)"
   ]
  },
  {
   "cell_type": "code",
   "execution_count": 21,
   "id": "a0132412-3484-4648-8758-0aba512b850e",
   "metadata": {},
   "outputs": [],
   "source": [
    "mapping = {1: \"negative\", 2: \"negative\", 3: \"negative\", 4: \"positive\", 5: \"positive\"}\n",
    "df_comments[\"score\"] = df_comments[\"score\"].map(mapping)"
   ]
  },
  {
   "cell_type": "code",
   "execution_count": 22,
   "id": "88524442-8093-40af-be4a-f9635d00f6e6",
   "metadata": {},
   "outputs": [],
   "source": [
    "text_vectorizer = TfidfVectorizer(\n",
    "    max_features=20000, use_idf=True, smooth_idf=True\n",
    ")"
   ]
  },
  {
   "cell_type": "code",
   "execution_count": 23,
   "id": "a323cb5f-a22d-46d5-acb2-4f4b346d01a3",
   "metadata": {},
   "outputs": [
    {
     "name": "stdout",
     "output_type": "stream",
     "text": [
      "(32781, 17863) (8196, 17863) (32781,) (8196,)\n"
     ]
    }
   ],
   "source": [
    "X = df_comments[\"comment\"]\n",
    "y = df_comments[\"score\"]\n",
    "X_pre = text_vectorizer.fit_transform(X)\n",
    "\n",
    "X_train, X_test, y_train, y_test = train_test_split(\n",
    "    X_pre, y, stratify=y, train_size=0.8, random_state=22\n",
    ")\n",
    "X_train.shape\n",
    "print(X_train.shape, X_test.shape, y_train.shape, y_test.shape)"
   ]
  },
  {
   "cell_type": "code",
   "execution_count": 24,
   "id": "83f39281-fdec-4153-830d-4f3f9e84cc2e",
   "metadata": {},
   "outputs": [
    {
     "name": "stderr",
     "output_type": "stream",
     "text": [
      "2024/03/09 03:20:40 WARNING mlflow.sklearn: Failed to log training dataset information to MLflow Tracking. Reason: 'Series' object has no attribute 'toarray'\n",
      "2024/03/09 03:20:46 WARNING mlflow.utils.autologging_utils: MLflow autologging encountered a warning: \"/opt/conda/lib/python3.9/site-packages/_distutils_hack/__init__.py:33: UserWarning: Setuptools is replacing distutils.\"\n",
      "2024/03/09 03:20:47 WARNING mlflow.sklearn: Model was missing function: predict. Not logging python_function flavor!\n"
     ]
    }
   ],
   "source": [
    "mlflow.set_tracking_uri('http://mlflow_server:5000')\n",
    "experiment_name = \"experiment_0903\"\n",
    "mlflow.set_experiment(experiment_name)\n",
    "mlflow.start_run()\n",
    "mlflow.sklearn.autolog()\n",
    "\n",
    "log = LogisticRegression(max_iter=1000,solver='liblinear',C=1.5,penalty='l1')\n",
    "log.fit(X_train, y_train)\n",
    "y_pred = log.predict(X_test)\n",
    "acc = accuracy_score(y_test, y_pred)\n",
    "#cm = confusion_matrix(y_pred,y_test)\n",
    "#np.save(\"confusion_matrix.npy\", cm)\n",
    "\n",
    "    #mlflow.log_artifact(\"confusion_matrix.npy\")\n",
    "mlflow.log_metric(\"accuracy\", acc)\n",
    "    #mlflow.log_param(\"max_iter\", log.max_iter)\n",
    "    #mlflow.log_param(\"solver\", log.solver)\n",
    "    #mlflow.log_param(\"C\", log.C)\n",
    "    #mlflow.log_param(\"penalty\", log.penalty)\n",
    "    #mlflow.sklearn.log_model(log, \"sentiment_class\")\n",
    "mlflow.sklearn.log_model(text_vectorizer, \"text_vectorizer\")\n",
    "mlflow.end_run()"
   ]
  },
  {
   "cell_type": "code",
   "execution_count": 8,
   "id": "caa5c476-27a9-45c1-b5c1-689c45f17998",
   "metadata": {},
   "outputs": [
    {
     "name": "stdout",
     "output_type": "stream",
     "text": [
      "+--------------------------------+--------------------------------+------------------------+--------------+--------------+\n",
      "|customer_id                     |customer_unique_id              |customer_zip_code_prefix|customer_city |customer_state|\n",
      "+--------------------------------+--------------------------------+------------------------+--------------+--------------+\n",
      "|0054556ea954a76ad6f9c4ba79d34a98|3cc8e80baa86a7befe2b24568cd0faf0|95680                   |canela        |SP            |\n",
      "|009bd844996868ab5166ade7dd9ab471|63df52c362d4b7183bb6a463452a8183|13076                   |campinas      |SP            |\n",
      "|00abf30c1a93c7c8b509cb80a22e4dd8|d43e7cbf7354f1f46a7a1b30701017b3|6226                    |osasco        |SP            |\n",
      "|02625456293ab29f0b11a84835a8c0ab|570eb70ff97166b85ea96be3bfb65fef|31930                   |belo horizonte|MG            |\n",
      "|028514f8be6e8c2adb9d0b4647ef3a39|be4d46b2c26abc0280f42d8325aa54a0|35200                   |aimores       |MG            |\n",
      "|033225f6250f5ebf765eb90c41cd9c35|07b9a37d717b53a556e7c27669dfab57|83702                   |araucaria     |PR            |\n",
      "|03514f9ba6258fadc8aa2391eadee65b|3a4f5d794447ef719ca0e2f79613756d|75115                   |anapolis      |GO            |\n",
      "|04bf1a1d175bd70ee2c3e58b923f29ed|6afbf8b1d0c7c75becfa17aaa5d91e96|13295                   |itupeva       |SP            |\n",
      "|05f49d64b685d744c5e3207a7640a714|d9a1aaab532b2af5b09fc0a8d9e4accf|51250                   |recife        |PE            |\n",
      "|067f45ab00b8417ea9d95d1f42f6a41c|26b0aa1978f09039fab41c4e4ed32299|57072                   |maceio        |AL            |\n",
      "+--------------------------------+--------------------------------+------------------------+--------------+--------------+\n",
      "only showing top 10 rows\n",
      "\n"
     ]
    }
   ],
   "source": [
    "#spark.sql('SELECT * FROM silver.cleaned_customer').show(10,False)"
   ]
  },
  {
   "cell_type": "code",
   "execution_count": 25,
   "id": "2cb416db-bf95-4457-89b1-e9762eb7df1d",
   "metadata": {},
   "outputs": [
    {
     "data": {
      "application/vnd.jupyter.widget-view+json": {
       "model_id": "b154e9a8662e43fbbe4cdc71ad0652b9",
       "version_major": 2,
       "version_minor": 0
      },
      "text/plain": [
       "Downloading artifacts:   0%|          | 0/5 [00:00<?, ?it/s]"
      ]
     },
     "metadata": {},
     "output_type": "display_data"
    }
   ],
   "source": [
    "logged_model = 'runs:/dae0d9e1a0a642d1afd024f71a4db0ac/model'\n",
    "\n",
    "# Load model as a PyFuncModel.\n",
    "loaded_model = mlflow.pyfunc.load_model(logged_model)"
   ]
  },
  {
   "cell_type": "code",
   "execution_count": 9,
   "id": "b78cf32c-d839-4a8d-9e9c-2c4b98597b3a",
   "metadata": {},
   "outputs": [
    {
     "data": {
      "text/plain": [
       "DataFrame[num_affected_rows: bigint]"
      ]
     },
     "execution_count": 9,
     "metadata": {},
     "output_type": "execute_result"
    }
   ],
   "source": [
    "#spark.sql(\"UPDATE silver.cleaned_customer SET customer_state = 'SP' WHERE customer_id = '0054556ea954a76ad6f9c4ba79d34a98'\")"
   ]
  },
  {
   "cell_type": "code",
   "execution_count": 13,
   "id": "3603e69c-330c-423a-9972-b13908031e2a",
   "metadata": {},
   "outputs": [
    {
     "name": "stdout",
     "output_type": "stream",
     "text": [
      "+--------+\n",
      "|count(1)|\n",
      "+--------+\n",
      "|   99441|\n",
      "+--------+\n",
      "\n"
     ]
    }
   ],
   "source": [
    "#spark.sql(\"SELECT count(*) FROM silver.cleaned_customer\").show()"
   ]
  },
  {
   "cell_type": "code",
   "execution_count": 16,
   "id": "40e1cba9-6b64-4cfb-8dcc-cdaee19b6b0a",
   "metadata": {},
   "outputs": [
    {
     "name": "stdout",
     "output_type": "stream",
     "text": [
      "+--------------------------------+\n",
      "|customer_id                     |\n",
      "+--------------------------------+\n",
      "|36a1aa63bf2ebcd4911e026092700610|\n",
      "|512f27d822abe6af95d86529e73724a6|\n",
      "|384fbbcdcf45c174ca6407d4ade90112|\n",
      "|4632eb5a8f175f6fe020520ae0c678f3|\n",
      "|174cf4e5e95b5a49bac9cee9ef6cef70|\n",
      "+--------------------------------+\n",
      "only showing top 5 rows\n",
      "\n"
     ]
    }
   ],
   "source": [
    "#spark.sql(\"SELECT DISTINCT(customer_id) FROM silver.cleaned_customer\").show(5,False)"
   ]
  },
  {
   "cell_type": "code",
   "execution_count": null,
   "id": "1b3ed6ac-4c16-4397-8080-e13c43d0462c",
   "metadata": {},
   "outputs": [],
   "source": []
  }
 ],
 "metadata": {
  "kernelspec": {
   "display_name": "Python 3 (ipykernel)",
   "language": "python",
   "name": "python3"
  },
  "language_info": {
   "codemirror_mode": {
    "name": "ipython",
    "version": 3
   },
   "file_extension": ".py",
   "mimetype": "text/x-python",
   "name": "python",
   "nbconvert_exporter": "python",
   "pygments_lexer": "ipython3",
   "version": "3.9.13"
  }
 },
 "nbformat": 4,
 "nbformat_minor": 5
}
